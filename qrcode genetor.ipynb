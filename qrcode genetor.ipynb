{
 "cells": [
  {
   "cell_type": "code",
   "execution_count": 1,
   "id": "f1d10b22",
   "metadata": {},
   "outputs": [],
   "source": [
    "import pyqrcode"
   ]
  },
  {
   "cell_type": "code",
   "execution_count": 2,
   "id": "1ae3f22b",
   "metadata": {},
   "outputs": [
    {
     "name": "stdout",
     "output_type": "stream",
     "text": [
      "Requirement already satisfied: qrcode in c:\\users\\dell\\anaconda\\lib\\site-packages (7.3.1)\n",
      "Requirement already satisfied: colorama in c:\\users\\dell\\anaconda\\lib\\site-packages (from qrcode) (0.4.4)\n",
      "Note: you may need to restart the kernel to use updated packages.\n"
     ]
    }
   ],
   "source": [
    "pip install qrcode"
   ]
  },
  {
   "cell_type": "code",
   "execution_count": 3,
   "id": "ff13c91c",
   "metadata": {},
   "outputs": [
    {
     "name": "stdout",
     "output_type": "stream",
     "text": [
      "Requirement already satisfied: pyqrcode in c:\\users\\dell\\anaconda\\lib\\site-packages (1.2.1)\n",
      "Note: you may need to restart the kernel to use updated packages.\n"
     ]
    }
   ],
   "source": [
    "pip install pyqrcode"
   ]
  },
  {
   "cell_type": "code",
   "execution_count": 4,
   "id": "db2ad30d",
   "metadata": {},
   "outputs": [],
   "source": [
    "from pyqrcode import QRCode"
   ]
  },
  {
   "cell_type": "code",
   "execution_count": 5,
   "id": "e59d7dca",
   "metadata": {},
   "outputs": [],
   "source": [
    "k = \"https://www.youtube.com/channel/UCeO9hPCfRzqb2yTuAn713Mg\""
   ]
  },
  {
   "cell_type": "code",
   "execution_count": 6,
   "id": "deff4e7b",
   "metadata": {},
   "outputs": [],
   "source": [
    "url = pyqrcode.create(k)"
   ]
  },
  {
   "cell_type": "code",
   "execution_count": 7,
   "id": "d436d6d1",
   "metadata": {},
   "outputs": [
    {
     "name": "stdout",
     "output_type": "stream",
     "text": [
      "Requirement already satisfied: pypng in c:\\users\\dell\\anaconda\\lib\\site-packages (0.0.21)\n",
      "Note: you may need to restart the kernel to use updated packages.\n"
     ]
    }
   ],
   "source": [
    "pip install pypng"
   ]
  },
  {
   "cell_type": "code",
   "execution_count": 8,
   "id": "70f75f24",
   "metadata": {},
   "outputs": [],
   "source": [
    "import png"
   ]
  },
  {
   "cell_type": "code",
   "execution_count": 11,
   "id": "281b16d0",
   "metadata": {},
   "outputs": [],
   "source": [
    "url.png(\"myyoutube.png\", scale = 8) "
   ]
  },
  {
   "cell_type": "markdown",
   "id": "dc347daf",
   "metadata": {},
   "source": [
    "from IPython.display import Image\n",
    "Image('myyoutube.png')"
   ]
  },
  {
   "cell_type": "code",
   "execution_count": null,
   "id": "e6a02b65",
   "metadata": {},
   "outputs": [],
   "source": []
  }
 ],
 "metadata": {
  "kernelspec": {
   "display_name": "Python 3 (ipykernel)",
   "language": "python",
   "name": "python3"
  },
  "language_info": {
   "codemirror_mode": {
    "name": "ipython",
    "version": 3
   },
   "file_extension": ".py",
   "mimetype": "text/x-python",
   "name": "python",
   "nbconvert_exporter": "python",
   "pygments_lexer": "ipython3",
   "version": "3.9.12"
  }
 },
 "nbformat": 4,
 "nbformat_minor": 5
}
